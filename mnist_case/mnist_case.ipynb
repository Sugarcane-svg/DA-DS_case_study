{
 "cells": [
  {
   "cell_type": "code",
   "execution_count": 1,
   "metadata": {},
   "outputs": [
    {
     "data": {
      "text/plain": [
       "dict_keys(['data', 'target', 'frame', 'categories', 'feature_names', 'target_names', 'DESCR', 'details', 'url'])"
      ]
     },
     "execution_count": 1,
     "metadata": {},
     "output_type": "execute_result"
    }
   ],
   "source": [
    "from sklearn.datasets import fetch_openml\n",
    "mnist = fetch_openml(\"mnist_784\", version=1)\n",
    "mnist.keys()"
   ]
  },
  {
   "cell_type": "code",
   "execution_count": 2,
   "metadata": {},
   "outputs": [
    {
     "name": "stdout",
     "output_type": "stream",
     "text": [
      "(70000, 784)\n",
      "(70000,)\n"
     ]
    }
   ],
   "source": [
    "X, y = mnist[\"data\"], mnist[\"target\"]\n",
    "print(X.shape)\n",
    "print(y.shape)"
   ]
  },
  {
   "cell_type": "code",
   "execution_count": 14,
   "metadata": {},
   "outputs": [
    {
     "name": "stdout",
     "output_type": "stream",
     "text": [
      "<class 'pandas.core.frame.DataFrame'>\n",
      "<class 'pandas.core.series.Series'>\n"
     ]
    }
   ],
   "source": [
    "print(type(X))\n",
    "print(type(y))"
   ]
  },
  {
   "cell_type": "code",
   "execution_count": 12,
   "metadata": {},
   "outputs": [
    {
     "data": {
      "image/png": "[encoded data removed]",
      "text/plain": [
       "<Figure size 640x480 with 1 Axes>"
      ]
     },
     "metadata": {},
     "output_type": "display_data"
    }
   ],
   "source": [
    "# check the first digit\n",
    "\n",
    "import matplotlib as mpl\n",
    "import matplotlib.pyplot as plt\n",
    "import numpy as np\n",
    "\n",
    "first_digit = np.array(X.iloc[0]) # cannot use X[0] because X is dataframe and only array-like can use reshape function\n",
    "first_digit_img = first_digit.reshape(28,28)\n",
    "\n",
    "plt.imshow(first_digit_img, cmap=mpl.cm.binary, interpolation=\"nearest\")\n",
    "plt.axis(\"off\")\n",
    "plt.show()"
   ]
  },
  {
   "cell_type": "code",
   "execution_count": 13,
   "metadata": {},
   "outputs": [
    {
     "data": {
      "text/plain": [
       "'5'"
      ]
     },
     "execution_count": 13,
     "metadata": {},
     "output_type": "execute_result"
    }
   ],
   "source": [
    "y[0]"
   ]
  },
  {
   "cell_type": "code",
   "execution_count": 15,
   "metadata": {},
   "outputs": [
    {
     "data": {
      "text/plain": [
       "5"
      ]
     },
     "execution_count": 15,
     "metadata": {},
     "output_type": "execute_result"
    }
   ],
   "source": [
    "# the label is a string, so we need to convert it into integer\n",
    "y = y.astype(np.uint8)\n",
    "y[0]"
   ]
  },
  {
   "cell_type": "code",
   "execution_count": 20,
   "metadata": {},
   "outputs": [],
   "source": [
    "# since the dataset is pretty obvious and clean, \n",
    "# we just need to split the data into training and test set\n",
    "from sklearn.model_selection import train_test_split\n",
    "X_train, X_test, y_train, y_test = train_test_split(X, y, test_size = 0.2, random_state = 10)"
   ]
  },
  {
   "cell_type": "code",
   "execution_count": 23,
   "metadata": {},
   "outputs": [
    {
     "name": "stderr",
     "output_type": "stream",
     "text": [
      "/Users/phoebezou/Documents/google_certificate/env/lib/python3.9/site-packages/sklearn/base.py:493: UserWarning: X does not have valid feature names, but SGDClassifier was fitted with feature names\n",
      "  warnings.warn(\n"
     ]
    },
    {
     "data": {
      "text/plain": [
       "array([ True])"
      ]
     },
     "execution_count": 23,
     "metadata": {},
     "output_type": "execute_result"
    }
   ],
   "source": [
    "# try out a binary classifier\n",
    "# we only classify the digit whether it is 5\n",
    "y_train_5 = (y_train == 5)\n",
    "y_test_5 = (y_test == 5)\n",
    "\n",
    "from sklearn.linear_model import SGDClassifier # stochastic gradient descent\n",
    "sgd_clf = SGDClassifier(random_state = 10)\n",
    "sgd_clf.fit(X_train, y_train_5)\n",
    "\n",
    "# predict the first digit, and the outcome is True\n",
    "sgd_clf.predict([first_digit]) # [] -> convert first_digit into 2D array"
   ]
  },
  {
   "cell_type": "code",
   "execution_count": 25,
   "metadata": {},
   "outputs": [
    {
     "name": "stdout",
     "output_type": "stream",
     "text": [
      "Scores:  [0.95821429 0.96107143 0.96625    0.96964286 0.96767857 0.96839286\n",
      " 0.95482143 0.96125    0.92357143 0.95375   ]\n",
      "Mean:  0.9584642857142857\n",
      "Std:  0.01279329384274975\n"
     ]
    }
   ],
   "source": [
    "# measure the performance\n",
    "# 1. using cross_validation to check accuray\n",
    "from sklearn.model_selection import cross_val_score\n",
    "sgd_score = cross_val_score(sgd_clf, X_train, y_train_5, scoring = \"accuracy\", cv = 10)\n",
    "\n",
    "def print_score(score):\n",
    "    print(\"Scores: \", score)\n",
    "    print(\"Mean: \", score.mean())\n",
    "    print(\"Std: \", score.std())\n",
    "\n",
    "print_score(sgd_score) # from the accuracy below, it seems that the model did a pretty good job"
   ]
  },
  {
   "cell_type": "code",
   "execution_count": 30,
   "metadata": {},
   "outputs": [
    {
     "name": "stdout",
     "output_type": "stream",
     "text": [
      "Scores:  [0.90946429 0.90660714 0.9125     0.91321429 0.90803571 0.91392857\n",
      " 0.90678571 0.90678571 0.90553571 0.91267857]\n",
      "Mean:  0.9095535714285713\n",
      "Std:  0.0030569112896276602\n"
     ]
    }
   ],
   "source": [
    "# example classifier just classifies every single image in the \"not-5\" class\n",
    "\n",
    "from sklearn.base import BaseEstimator\n",
    "class Never5Classifier(BaseEstimator):\n",
    "    def fit(self, X, y = None):\n",
    "        pass\n",
    "\n",
    "    def predict(self, X):\n",
    "        return np.zeros((len(X),1), dtype = bool)\n",
    "\n",
    "\n",
    "never_5_clf = Never5Classifier()\n",
    "print_score(cross_val_score(never_5_clf, X_train, y_train_5, cv = 10, scoring = \"accuracy\"))\n",
    "# which means that the total amount of target images takes an important role. This accuracy means that if you\n",
    "# always guess that an image is not 5, you will be right about 90% of time. so sometimes not recommend this\n",
    "# method"
   ]
  },
  {
   "cell_type": "code",
   "execution_count": 29,
   "metadata": {},
   "outputs": [
    {
     "data": {
      "text/plain": [
       "array([[0.],\n",
       "       [0.],\n",
       "       [0.],\n",
       "       ...,\n",
       "       [0.],\n",
       "       [0.],\n",
       "       [0.]])"
      ]
     },
     "execution_count": 29,
     "metadata": {},
     "output_type": "execute_result"
    }
   ],
   "source": [
    "# np.zeros((len(X), 1), dtype = bool)"
   ]
  },
  {
   "cell_type": "code",
   "execution_count": 35,
   "metadata": {},
   "outputs": [
    {
     "data": {
      "text/plain": [
       "array([[49833,  1102],\n",
       "       [ 1224,  3841]])"
      ]
     },
     "execution_count": 35,
     "metadata": {},
     "output_type": "execute_result"
    }
   ],
   "source": [
    "# 2. confusion matrix\n",
    "\n",
    "from sklearn.model_selection import cross_val_predict\n",
    "\n",
    "y_train_pred = cross_val_predict(sgd_clf, X_train, y_train_5, cv = 10) # instead of returning scores, it returns the actual prediction\n",
    "\n",
    "from sklearn.metrics import confusion_matrix\n",
    "\n",
    "confusion_matrix(y_train_5, y_train_pred, labels = [0,1])\n"
   ]
  },
  {
   "cell_type": "code",
   "execution_count": 34,
   "metadata": {},
   "outputs": [
    {
     "data": {
      "image/png": "[encoded data removed]",
      "text/plain": [
       "<Figure size 640x480 with 2 Axes>"
      ]
     },
     "metadata": {},
     "output_type": "display_data"
    }
   ],
   "source": [
    "# It is more intuitive on the plot\n",
    "from sklearn.metrics import ConfusionMatrixDisplay\n",
    "plt.show(ConfusionMatrixDisplay(confusion_matrix(y_train_5, y_train_pred)).plot())\n"
   ]
  },
  {
   "cell_type": "code",
   "execution_count": 36,
   "metadata": {},
   "outputs": [
    {
     "name": "stdout",
     "output_type": "stream",
     "text": [
      "precision:  0.7770584665183087\n",
      "recall:  0.7583415597235933\n"
     ]
    }
   ],
   "source": [
    "# 3. precision: a more concise metric(the accuracy of the positive predictions)\n",
    "# use with recall: true positive rate/sensitivity(the ratio of positive instances that are correctly detected by the classifier)\n",
    "\n",
    "from sklearn.metrics import precision_score, recall_score\n",
    "print(\"precision: \", precision_score(y_train_5, y_train_pred))\n",
    "print(\"recall: \", recall_score(y_train_5, y_train_pred))\n",
    "\n",
    "# interpretation: the model is correct only 77.7% of the time when it claims an image represents a 5,\n",
    "# moreover it only detects 75.8% of the 5s\n",
    "# 模型只找到75.8%的5，其中正确率只有77.7%"
   ]
  },
  {
   "cell_type": "code",
   "execution_count": 37,
   "metadata": {},
   "outputs": [
    {
     "name": "stdout",
     "output_type": "stream",
     "text": [
      "f1:  0.767585931254996\n"
     ]
    }
   ],
   "source": [
    "# 4. F1 score: the combination of precision and recall in particular when you need a single way to compare two classifiers\n",
    "# the classifier will ONLY get a high F1 score if both recall and precision are high\n",
    "\n",
    "from sklearn.metrics import f1_score\n",
    "print(\"f1: \", f1_score(y_train_5, y_train_pred))"
   ]
  },
  {
   "cell_type": "code",
   "execution_count": 41,
   "metadata": {},
   "outputs": [
    {
     "name": "stdout",
     "output_type": "stream",
     "text": [
      "decision score:  [2074.85374411]\n",
      "prediction on the first digit:  [ True]\n",
      "after raise threshold, the prediction on the first digit:  [False]\n"
     ]
    },
    {
     "name": "stderr",
     "output_type": "stream",
     "text": [
      "/Users/phoebezou/Documents/google_certificate/env/lib/python3.9/site-packages/sklearn/base.py:493: UserWarning: X does not have valid feature names, but SGDClassifier was fitted with feature names\n",
      "  warnings.warn(\n"
     ]
    }
   ],
   "source": [
    "# in some cases, you care more precision than recall or the opposite. Therefore, you need precision/recall tradeoff\n",
    "# decision function: the access to the decision score that the model uses to make predictions\n",
    "\n",
    "y_scores = sgd_clf.decision_function([first_digit])\n",
    "print(\"decision score: \",y_scores)\n",
    "\n",
    "threshold = 0 # SGD use 0 as threshold\n",
    "y_first_digit_pred = (y_scores > threshold)\n",
    "print(\"prediction on the first digit: \",y_first_digit_pred)\n",
    "\n",
    "\n",
    "# so if we raise the threshold, the prediction outcome is going to be false\n",
    "threshold = 8000\n",
    "y_first_digit_pred = (y_scores > threshold)\n",
    "print(\"after raise threshold, the prediction on the first digit: \", y_first_digit_pred)\n",
    "\n",
    "# so raise the threshold DECREASE recall because it detects 5 when threshold is 0 but it misses it when threshold is 8000"
   ]
  },
  {
   "cell_type": "code",
   "execution_count": 44,
   "metadata": {},
   "outputs": [
    {
     "data": {
      "image/png": "[encoded data removed]",
      "text/plain": [
       "<Figure size 640x480 with 1 Axes>"
      ]
     },
     "metadata": {},
     "output_type": "display_data"
    }
   ],
   "source": [
    "# decision on which threshold should be used\n",
    "y_scores = cross_val_predict(sgd_clf, X_train, y_train_5, cv = 3, method = \"decision_function\") # get the scores for all instances\n",
    "\n",
    "# with these score you can compute precision and recall for all possible thresholds\n",
    "from sklearn.metrics import precision_recall_curve\n",
    "precisions, recalls, thresholds = precision_recall_curve(y_train_5, y_scores)\n",
    "\n",
    "# plot the precision and recall as functions of the threshold value\n",
    "def plot_precision_recall_vs_threshold(precision, recall, threshold):\n",
    "    plt.plot(threshold, precision[:-1], \"b--\", label = \"Precision\")\n",
    "    plt.plot(threshold, recall[:-1], \"g-\", label = \"Recall\")\n",
    "\n",
    "plot_precision_recall_vs_threshold(precisions, recalls, thresholds)\n",
    "plt.show()"
   ]
  },
  {
   "cell_type": "code",
   "execution_count": 45,
   "metadata": {},
   "outputs": [
    {
     "name": "stdout",
     "output_type": "stream",
     "text": [
      "[-134835.11637074 -125719.03388004 -119512.47348054 ...   25998.63655423\n",
      "   26186.49720373   33122.1823312 ]\n"
     ]
    }
   ],
   "source": [
    "print(thresholds)"
   ]
  }
 ],
 "metadata": {
  "kernelspec": {
   "display_name": "Python (myenv)",
   "language": "python",
   "name": "env"
  },
  "language_info": {
   "codemirror_mode": {
    "name": "ipython",
    "version": 3
   },
   "file_extension": ".py",
   "mimetype": "text/x-python",
   "name": "python",
   "nbconvert_exporter": "python",
   "pygments_lexer": "ipython3",
   "version": "3.9.7"
  }
 },
 "nbformat": 4,
 "nbformat_minor": 4
}
